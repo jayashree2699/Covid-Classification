{
  "nbformat": 4,
  "nbformat_minor": 0,
  "metadata": {
    "colab": {
      "name": "OptimizedGAN.ipynb",
      "provenance": [],
      "collapsed_sections": []
    },
    "kernelspec": {
      "name": "python3",
      "display_name": "Python 3"
    }
  },
  "cells": [
    {
      "cell_type": "code",
      "metadata": {
        "colab": {
          "base_uri": "https://localhost:8080/"
        },
        "id": "CDvlGP6zxz1x",
        "outputId": "91b23b24-0157-4e4a-8d44-8d836fb9f792"
      },
      "source": [
        "!pip install tensorflow==1.4.0"
      ],
      "execution_count": null,
      "outputs": [
        {
          "output_type": "stream",
          "text": [
            "\u001b[31mERROR: Could not find a version that satisfies the requirement tensorflow==1.4.0 (from versions: 1.13.0rc1, 1.13.0rc2, 1.13.1, 1.13.2, 1.14.0rc0, 1.14.0rc1, 1.14.0, 1.15.0rc0, 1.15.0rc1, 1.15.0rc2, 1.15.0rc3, 1.15.0, 1.15.2, 1.15.3, 1.15.4, 1.15.5, 2.0.0a0, 2.0.0b0, 2.0.0b1, 2.0.0rc0, 2.0.0rc1, 2.0.0rc2, 2.0.0, 2.0.1, 2.0.2, 2.0.3, 2.0.4, 2.1.0rc0, 2.1.0rc1, 2.1.0rc2, 2.1.0, 2.1.1, 2.1.2, 2.1.3, 2.2.0rc0, 2.2.0rc1, 2.2.0rc2, 2.2.0rc3, 2.2.0rc4, 2.2.0, 2.2.1, 2.2.2, 2.3.0rc0, 2.3.0rc1, 2.3.0rc2, 2.3.0, 2.3.1, 2.3.2, 2.4.0rc0, 2.4.0rc1, 2.4.0rc2, 2.4.0rc3, 2.4.0rc4, 2.4.0, 2.4.1)\u001b[0m\n",
            "\u001b[31mERROR: No matching distribution found for tensorflow==1.4.0\u001b[0m\n"
          ],
          "name": "stdout"
        }
      ]
    },
    {
      "cell_type": "code",
      "metadata": {
        "id": "L8DAAgNgBso1"
      },
      "source": [
        "from keras.optimizers import Optimizer\r\n",
        "from keras import backend as K\r\n",
        "import tensorflow.compat.v1 as tf\r\n",
        "class PSO():\r\n",
        "    def __init__(self, \r\n",
        "                 TF2_model, \r\n",
        "                 update_w = 1E-5,\r\n",
        "                 update_c1 = .1,\r\n",
        "                 update_c2 = 1,\r\n",
        "                 population_size = 10):\r\n",
        "        self.nnmodel = TF2_model\r\n",
        "        self.population_size = population_size\r\n",
        "        self.population = self._createPopulation()\r\n",
        "        self.update_w = update_w\r\n",
        "        self.update_c1 = update_c1\r\n",
        "        self.update_c2 = update_c2\r\n",
        "        self.pbest = {'fitness':tf.zeros([population_size]), \r\n",
        "                      'weights':tf.zeros(self.population['weights'].shape)}\r\n",
        "        self.force_evaluate = True\r\n",
        "    pass \r\n",
        "\r\n",
        "    def _createPopulation(self):\r\n",
        "        self.population = {}\r\n",
        "        # creating the weights\r\n",
        "        weights = self._flattenWeightsTFKeras()\r\n",
        "        self.population['weights'] = tf.stack([tf.random.normal(weights.shape, stddev=.05) for i in range(self.population_size)], axis=0)\r\n",
        "        self.population['velocity'] = tf.stack([tf.random.normal(weights.shape, stddev=.0) for i in range(self.population_size)], axis=0)\r\n",
        "        # self.population['graphs'] = [tf.keras.models.clone_model(self.nnmodel) for i in range(self.population_size)]\r\n",
        "        return self.population\r\n",
        "    pass \r\n",
        "\r\n",
        "    def _flattenWeightsTFKeras(self):\r\n",
        "        flated_weights = tf.Variable(tf.concat([tf.reshape(weights, [-1]) for weights in self.nnmodel.trainable_weights], axis=-1))\r\n",
        "        return flated_weights\r\n",
        "    pass \r\n",
        "\r\n",
        "    def _recoverFlattenWeightsTFKeras(self, model, flated_weights):\r\n",
        "        access_index = 0\r\n",
        "        for model_tesnsor in model.trainable_weights:\r\n",
        "            element_shape = model_tesnsor.shape.as_list()\r\n",
        "            element_number = np.ones(element_shape).sum().astype('int')\r\n",
        "            model_tesnsor.assign(tf.reshape(flated_weights[access_index:access_index + element_number], element_shape))\r\n",
        "            access_index += element_number\r\n",
        "        pass\r\n",
        "        return model\r\n",
        "    pass \r\n",
        "\r\n",
        "    def update_fitness(self, fitness_function):\r\n",
        "        fitness_rec = []\r\n",
        "        for ind_index in range(self.population_size):\r\n",
        "            self._recoverFlattenWeightsTFKeras(self.nnmodel, self.population['weights'][ind_index])\r\n",
        "            fitness_rec.append(fitness_function())\r\n",
        "        pass \r\n",
        "        return tf.concat(fitness_rec, axis=0)\r\n",
        "    pass \r\n",
        "\r\n",
        "    def minimize(self, fitness_function):\r\n",
        "        #print('PSO')\r\n",
        "        # get fitnesses of each individual\r\n",
        "        fitness_rec = self.update_fitness(fitness_function)\r\n",
        "        # print(fitness_rec)\r\n",
        "        #print('inside PSO optimization')\r\n",
        "\r\n",
        "        # take change to jump out of the outlier\r\n",
        "        if self.force_evaluate:\r\n",
        "            self.force_evaluate = False\r\n",
        "            self.pbest['fitness'] = tf.identity(fitness_rec)\r\n",
        "            self.pbest['weights'] = tf.identity(self.population['weights'])\r\n",
        "        else :\r\n",
        "            self.pbest['fitness'] = tf.identity(fitness_rec + self.pbest['fitness'])/2 \r\n",
        "        pass \r\n",
        "        \r\n",
        "        # update pbest memory\r\n",
        "        rec_cmp = tf.cast(tf.math.less(self.pbest['fitness'], fitness_rec), dtype=tf.float32)\r\n",
        "        self.pbest['fitness'] = tf.identity(self.pbest['fitness'] * rec_cmp + fitness_rec * (-1 * rec_cmp + 1)) # update the pbest fitness\r\n",
        "        rec_cmp = tf.reshape(rec_cmp, [-1, 1])\r\n",
        "        # print(rec_cmp)\r\n",
        "        self.pbest['weights'] = tf.identity(self.pbest['weights'] * rec_cmp + self.population['weights'] * (-1 * rec_cmp + 1)) # update the pbest weights\r\n",
        "        \r\n",
        "        # create gbest tensors\r\n",
        "        # gbest = tf.identity(self.population['weights'][tf.argmin(fitness_rec)])\r\n",
        "        gbest = tf.identity(self.pbest['weights'][tf.argmin(self.pbest['fitness'])])\r\n",
        "\r\n",
        "        # update population \r\n",
        "        # vid+1 = w∙vid+c1∙rand()∙(pid-xid)+c2∙Rand()∙(pgd-xid) \r\n",
        "        # xid+1 = xid+vid\r\n",
        "        self.population['velocity'] = tf.identity(\r\n",
        "                                      self.update_w * tf.identity(self.population['velocity']) +\\\r\n",
        "                                    #   self.update_c1 * tf.math.abs(tf.random.normal(self.population['velocity'].shape, stddev=.05, dtype=tf.float32)) * tf.identity(self.pbest['weights'] - self.population['weights']) +\\\r\n",
        "                                    #   self.update_c2 * tf.math.abs(tf.random.normal(self.population['velocity'].shape, stddev=.05, dtype=tf.float32)) * tf.identity(gbest - self.population['weights'])\r\n",
        "                                      self.update_c1 * tf.math.abs(tf.random.normal([self.population_size, 1], stddev=1E-4, dtype=tf.float32)) * tf.identity(self.pbest['weights'] - self.population['weights']) +\\\r\n",
        "                                      self.update_c2 * tf.math.abs(tf.random.normal([self.population_size, 1], stddev=1E-4, dtype=tf.float32)) * tf.identity(gbest - self.population['weights'])\r\n",
        "                                      \r\n",
        "                                      )\r\n",
        "        self.population['weights'] = tf.identity(self.population['velocity'] + self.population['weights'])\r\n",
        "\r\n",
        "        return self.pbest['fitness'][tf.argmin(self.pbest['fitness'])]\r\n",
        "    pass \r\n",
        "\r\n",
        "    def getTopModel(self, fitness_function):\r\n",
        "        # get fitnesses of each individual\r\n",
        "        fitness_rec = self.update_fitness(fitness_function)\r\n",
        "\r\n",
        "        # create gbest tensors\r\n",
        "        selected_ind = self.pbest['weights'][tf.argmax(fitness_rec)] \r\n",
        "\r\n",
        "        #set the wieghts to discriminator\r\n",
        "        self._recoverFlattenWeightsTFKeras(self.nnmodel, selected_ind)\r\n",
        "        return self.nnmodel\r\n",
        "    pass\r\n",
        "\r\n",
        "pass "
      ],
      "execution_count": 1,
      "outputs": []
    },
    {
      "cell_type": "code",
      "metadata": {
        "colab": {
          "base_uri": "https://localhost:8080/"
        },
        "id": "lPT4GDK6frCo",
        "outputId": "323671ba-578d-4b32-d038-0a2de0efd76f"
      },
      "source": [
        "import datetime\r\n",
        "import os\r\n",
        "import numpy as np\r\n",
        "from glob import glob\r\n",
        "from PIL import Image\r\n",
        "import matplotlib.pyplot as plt\r\n",
        "IMAGE_SIZE = 64\r\n",
        "INPUT_DATA_DIR = \"/content/drive/MyDrive/Data/COVID/COVID/data-covid/Covid/\" # Path to the folder with input images. For more info check simspons_dataset.txt\r\n",
        "OUTPUT_DIR = './{date:%Y-%m-%d_%H:%M:%S}/'.format(date=datetime.datetime.now())\r\n",
        "if not os.path.exists(OUTPUT_DIR):\r\n",
        "    os.makedirs(OUTPUT_DIR)\r\n",
        "\r\n",
        "\r\n",
        "# In[ ]:\r\n",
        "# In[ ]:\r\n",
        "\r\n",
        "\r\n",
        "# Training\r\n",
        "input_images = np.asarray([np.asarray(Image.open(file).convert('RGB').resize((IMAGE_SIZE, IMAGE_SIZE))) for file in glob(INPUT_DATA_DIR + '*')])\r\n",
        "print (\"Input: \" + str(input_images.shape))\r\n",
        "\r\n"
      ],
      "execution_count": 2,
      "outputs": [
        {
          "output_type": "stream",
          "text": [
            "Input: (500, 64, 64, 3)\n"
          ],
          "name": "stdout"
        }
      ]
    },
    {
      "cell_type": "markdown",
      "metadata": {
        "id": "eQaC3u_XfoLl"
      },
      "source": [
        ""
      ]
    },
    {
      "cell_type": "code",
      "metadata": {
        "colab": {
          "base_uri": "https://localhost:8080/"
        },
        "id": "zYCZ21r0cv08",
        "outputId": "8beacc76-d7db-4108-93d3-7d4522156f99"
      },
      "source": [
        "noise_dim = 100\r\n",
        "image_shape = (64,64,3)\r\n",
        "from tensorflow.keras.models import Sequential,Model\r\n",
        "from tensorflow.keras.layers import UpSampling2D, Conv2D, Dense, BatchNormalization, LeakyReLU, Input,Reshape, MaxPooling2D, Flatten, AveragePooling2D, Conv2DTranspose\r\n",
        "from tensorflow.keras.optimizers import Adam\r\n",
        "\r\n",
        "\r\n",
        "def build_G():\r\n",
        "    \r\n",
        "    model = Sequential()\r\n",
        "    model.add(Dense(2048,input_dim = noise_dim))\r\n",
        "    model.add(LeakyReLU(0.2))\r\n",
        "    model.add(Dense(8 * 8 * 256))\r\n",
        "    model.add(BatchNormalization())\r\n",
        "    model.add(LeakyReLU(0.2))\r\n",
        "    model.add(Reshape((8, 8, 256)))\r\n",
        "    model.add(Conv2D(128, kernel_size=5, padding='same'))\r\n",
        "    model.add(BatchNormalization())\r\n",
        "    model.add(LeakyReLU(0.2))\r\n",
        "    model.add(Conv2DTranspose(128, kernel_size=5, strides=2, padding='same'))\r\n",
        "    model.add(LeakyReLU(0.2))\r\n",
        "    model.add(Conv2DTranspose(64, kernel_size=5, strides=2, padding='same'))\r\n",
        "    model.add(LeakyReLU(0.2))\r\n",
        "    model.add(Conv2DTranspose(3, kernel_size=5, strides=2, padding='same', activation='tanh'))\r\n",
        "    return model\r\n",
        "G = build_G()\r\n",
        "G.summary()"
      ],
      "execution_count": 3,
      "outputs": [
        {
          "output_type": "stream",
          "text": [
            "Model: \"sequential\"\n",
            "_________________________________________________________________\n",
            "Layer (type)                 Output Shape              Param #   \n",
            "=================================================================\n",
            "dense (Dense)                (None, 2048)              206848    \n",
            "_________________________________________________________________\n",
            "leaky_re_lu (LeakyReLU)      (None, 2048)              0         \n",
            "_________________________________________________________________\n",
            "dense_1 (Dense)              (None, 16384)             33570816  \n",
            "_________________________________________________________________\n",
            "batch_normalization (BatchNo (None, 16384)             65536     \n",
            "_________________________________________________________________\n",
            "leaky_re_lu_1 (LeakyReLU)    (None, 16384)             0         \n",
            "_________________________________________________________________\n",
            "reshape (Reshape)            (None, 8, 8, 256)         0         \n",
            "_________________________________________________________________\n",
            "conv2d (Conv2D)              (None, 8, 8, 128)         819328    \n",
            "_________________________________________________________________\n",
            "batch_normalization_1 (Batch (None, 8, 8, 128)         512       \n",
            "_________________________________________________________________\n",
            "leaky_re_lu_2 (LeakyReLU)    (None, 8, 8, 128)         0         \n",
            "_________________________________________________________________\n",
            "conv2d_transpose (Conv2DTran (None, 16, 16, 128)       409728    \n",
            "_________________________________________________________________\n",
            "leaky_re_lu_3 (LeakyReLU)    (None, 16, 16, 128)       0         \n",
            "_________________________________________________________________\n",
            "conv2d_transpose_1 (Conv2DTr (None, 32, 32, 64)        204864    \n",
            "_________________________________________________________________\n",
            "leaky_re_lu_4 (LeakyReLU)    (None, 32, 32, 64)        0         \n",
            "_________________________________________________________________\n",
            "conv2d_transpose_2 (Conv2DTr (None, 64, 64, 3)         4803      \n",
            "=================================================================\n",
            "Total params: 35,282,435\n",
            "Trainable params: 35,249,411\n",
            "Non-trainable params: 33,024\n",
            "_________________________________________________________________\n"
          ],
          "name": "stdout"
        }
      ]
    },
    {
      "cell_type": "code",
      "metadata": {
        "colab": {
          "base_uri": "https://localhost:8080/"
        },
        "id": "YPmMCrtUcwif",
        "outputId": "4b698122-2939-4335-e0bf-f1d5900349e2"
      },
      "source": [
        "from keras.optimizers import Optimizer\r\n",
        "from keras import backend as K\r\n",
        "def build_D():\r\n",
        "    Input = tf.keras.Input([64,64,3])\r\n",
        "    nInput = Input/128 - 1\r\n",
        "    conv1 = tf.keras.layers.Conv2D(64, [5, 5], strides=(2, 2), padding=\"valid\", activation=tf.nn.relu)(nInput) #[14,14]\r\n",
        "    conv2 = tf.keras.layers.Conv2D(128, [3, 3], strides=(2, 2), padding=\"valid\", activation=tf.nn.relu)(conv1) #[7,7]\r\n",
        "    conv3 = tf.keras.layers.Conv2D(256, [3, 3], strides=(2, 2), padding=\"valid\", activation=tf.nn.relu)(conv2) #[4,4]\r\n",
        "    fc = tf.keras.layers.Flatten()(conv3)\r\n",
        "    fc1 = tf.keras.layers.Dense(256, activation=tf.nn.relu)(fc)\r\n",
        "    fc2 = tf.keras.layers.Dense(512, activation=tf.nn.relu)(fc1)\r\n",
        "    fc3 = tf.keras.layers.Dense(1024, activation=tf.nn.relu)(fc2)\r\n",
        "    out = tf.keras.layers.Dense(10, activation=None)(fc3)\r\n",
        "    # model = Sequential()\r\n",
        "    # model.add(Conv2D(64, kernel_size=5, padding='valid',input_shape = image_shape))\r\n",
        "    # model.add(BatchNormalization())\r\n",
        "    # model.add(LeakyReLU(0.2))\r\n",
        "    # model.add(AveragePooling2D(pool_size=2))\r\n",
        "    # model.add(Conv2D(128, kernel_size=3, padding='valid'))\r\n",
        "    # model.add(BatchNormalization())\r\n",
        "    # model.add(LeakyReLU(0.2))\r\n",
        "    # model.add(AveragePooling2D(pool_size=2))\r\n",
        "    # model.add(Conv2D(256, kernel_size=3, padding='valid'))\r\n",
        "    # model.add(BatchNormalization())\r\n",
        "    # model.add(LeakyReLU(0.2))\r\n",
        "    # model.add(AveragePooling2D(pool_size=2))\r\n",
        "    # model.add(Flatten())\r\n",
        "    # model.add(Dense(1024))\r\n",
        "    # model.add(BatchNormalization())\r\n",
        "    # model.add(LeakyReLU(0.2))\r\n",
        "    # model.add(Dense(1, activation='sigmoid'))\r\n",
        "    # model.compile(loss='binary_crossentropy',\r\n",
        "    #           optimizer=Adam(learning_rate=0.0002, beta_1=0.5))\r\n",
        "    # print(model)\r\n",
        "    return tf.keras.Model(inputs=Input, outputs=out)\r\n",
        "D = build_D()\r\n",
        "D.compile(loss='binary_crossentropy')\r\n",
        "D.summary()\r\n",
        "opt = PSO(D)\r\n"
      ],
      "execution_count": 4,
      "outputs": [
        {
          "output_type": "stream",
          "text": [
            "Model: \"model\"\n",
            "_________________________________________________________________\n",
            "Layer (type)                 Output Shape              Param #   \n",
            "=================================================================\n",
            "input_1 (InputLayer)         [(None, 64, 64, 3)]       0         \n",
            "_________________________________________________________________\n",
            "tf.math.truediv (TFOpLambda) (None, 64, 64, 3)         0         \n",
            "_________________________________________________________________\n",
            "tf.math.subtract (TFOpLambda (None, 64, 64, 3)         0         \n",
            "_________________________________________________________________\n",
            "conv2d_1 (Conv2D)            (None, 30, 30, 64)        4864      \n",
            "_________________________________________________________________\n",
            "conv2d_2 (Conv2D)            (None, 14, 14, 128)       73856     \n",
            "_________________________________________________________________\n",
            "conv2d_3 (Conv2D)            (None, 6, 6, 256)         295168    \n",
            "_________________________________________________________________\n",
            "flatten (Flatten)            (None, 9216)              0         \n",
            "_________________________________________________________________\n",
            "dense_2 (Dense)              (None, 256)               2359552   \n",
            "_________________________________________________________________\n",
            "dense_3 (Dense)              (None, 512)               131584    \n",
            "_________________________________________________________________\n",
            "dense_4 (Dense)              (None, 1024)              525312    \n",
            "_________________________________________________________________\n",
            "dense_5 (Dense)              (None, 10)                10250     \n",
            "=================================================================\n",
            "Total params: 3,400,586\n",
            "Trainable params: 3,400,586\n",
            "Non-trainable params: 0\n",
            "_________________________________________________________________\n"
          ],
          "name": "stdout"
        }
      ]
    },
    {
      "cell_type": "code",
      "metadata": {
        "id": "389XZ9qyc_5j",
        "colab": {
          "base_uri": "https://localhost:8080/"
        },
        "outputId": "60875ba1-f64a-4724-b813-dac8683a2a18"
      },
      "source": [
        "def build_gan():\r\n",
        "  \r\n",
        "    D.trainable = False\r\n",
        "    gan_input = Input(shape=(noise_dim,))\r\n",
        "    gan_out = D(G(gan_input))\r\n",
        "    gan = Model(gan_input,gan_out)\r\n",
        "    gan.compile(loss='mean_squared_error', optimizer = 'adam')\r\n",
        "    return gan\r\n",
        "GAN = build_gan()\r\n",
        "GAN.summary()"
      ],
      "execution_count": 6,
      "outputs": [
        {
          "output_type": "stream",
          "text": [
            "Model: \"model_2\"\n",
            "_________________________________________________________________\n",
            "Layer (type)                 Output Shape              Param #   \n",
            "=================================================================\n",
            "input_3 (InputLayer)         [(None, 100)]             0         \n",
            "_________________________________________________________________\n",
            "sequential (Sequential)      (None, 64, 64, 3)         35282435  \n",
            "_________________________________________________________________\n",
            "model (Functional)           (None, 10)                3400586   \n",
            "=================================================================\n",
            "Total params: 38,683,021\n",
            "Trainable params: 35,249,411\n",
            "Non-trainable params: 3,433,610\n",
            "_________________________________________________________________\n"
          ],
          "name": "stdout"
        }
      ]
    },
    {
      "cell_type": "code",
      "metadata": {
        "id": "ZJXUFJFO5J1M"
      },
      "source": [
        "def sample_noise(batch_size):\r\n",
        "    return np.random.normal(size=(batch_size, noise_dim))\r\n",
        "\r\n",
        "def smooth_pos_labels(y):\r\n",
        "    return y - 0.3 + (np.random.random(y.shape) * 0.5)\r\n",
        "\r\n",
        "def smooth_neg_labels(y):\r\n",
        "    return y + np.random.random(y.shape) * 0.3"
      ],
      "execution_count": 7,
      "outputs": []
    },
    {
      "cell_type": "code",
      "metadata": {
        "id": "DYWyDLNN5S4P"
      },
      "source": [
        "def load_batch(data, batch_size,index):\r\n",
        "    return data[index*batch_size: (index+1)*batch_size]"
      ],
      "execution_count": null,
      "outputs": []
    },
    {
      "cell_type": "code",
      "metadata": {
        "colab": {
          "base_uri": "https://localhost:8080/",
          "height": 473
        },
        "id": "xskFoP3Wwad8",
        "outputId": "f70b1142-0dab-46bb-91f4-9b4d4fb7fb30"
      },
      "source": [
        "discriminator_loss = 0\r\n",
        "generator_loss = 0\r\n",
        "index = 0\r\n",
        "batch_size = 64  \r\n",
        "n_batches = int(input_images.shape[0] / batch_size)\r\n",
        "d_loss_logs = []\r\n",
        "g_loss_logs = []\r\n",
        "save_interval = 200\r\n",
        "size = len(input_images)\r\n",
        "def save_imgs(epoch):\r\n",
        "  r, c = 5, 5\r\n",
        "  noise = sample_noise(size)\r\n",
        "  gen_imgs = G.predict(noise)\r\n",
        "  # Rescale images 0 - 1\r\n",
        "  gen_imgs = (1/2.5) * gen_imgs + 0.5\r\n",
        "  fig, axs = plt.subplots(r, c)\r\n",
        "  cnt = 0\r\n",
        "  for i in range(r):\r\n",
        "    for j in range(c):\r\n",
        "      axs[i,j].imshow(gen_imgs[cnt, :,:,:])\r\n",
        "      axs[i,j].axis('off')\r\n",
        "      cnt += 1\r\n",
        "      fig.savefig(\"/content/drive/MyDrive/output/%d.png\" % epoch)\r\n",
        "      plt.close()\r\n",
        "def dloss():\r\n",
        "   x = input_images\r\n",
        "   noise = sample_noise(size)\r\n",
        "   generated_images = G.predict(noise)\r\n",
        "   y_real = np.ones(size)\r\n",
        "   y_real = smooth_pos_labels(y_real)\r\n",
        "   y_fake = np.zeros(size)\r\n",
        "   y_fake = smooth_neg_labels(y_fake)\r\n",
        "   d_loss_real = tf.reduce_mean(tf.keras.losses.mean_squared_error(tf.one_hot(y_real, 10, axis=-1), D(x)))\r\n",
        "   d_loss_fake =  tf.reduce_mean(tf.keras.losses.mean_squared_error(tf.one_hot(y_fake, 10, axis=-1), D(generated_images)))\r\n",
        "   #print(d_loss_real)\r\n",
        "   d_loss = d_loss_real + d_loss_fake\r\n",
        "   d_loss = tf.convert_to_tensor(d_loss)\r\n",
        "   return d_loss\r\n",
        "\r\n",
        "def train(epochs=10, batch_size=64, save_interval=1):\r\n",
        "    for i in range(epochs):\r\n",
        "      discriminator_loss = opt.minimize(dloss)\r\n",
        "      #print('dis_loss')\r\n",
        "      #print(discriminator_loss)\r\n",
        "      #print('1st epoch')\r\n",
        "      noise = sample_noise(size)\r\n",
        "      y_real = np.ones(size)\r\n",
        "      y_real = smooth_pos_labels(y_real)\r\n",
        "      generator_loss = GAN.train_on_batch(noise, y_real)\r\n",
        "      dis_loss = tf.dtypes.cast(discriminator_loss, tf.float32)\r\n",
        "      print (\"%d [D loss: %f] [G loss: %f]\" % (i, dis_loss , generator_loss))\r\n",
        "      d_loss_logs.append([i, dis_loss])\r\n",
        "      g_loss_logs.append([i, generator_loss])\r\n",
        "      if i % save_interval == 0:\r\n",
        "        save_imgs(i)\r\n",
        "\r\n",
        "\r\n",
        "    d_loss_logs_a = np.array(d_loss_logs)\r\n",
        "    g_loss_logs_a = np.array(g_loss_logs)\r\n",
        "\r\n",
        "        # At the end of training plot the losses vs epochs\r\n",
        "    plt.plot(d_loss_logs_a[:,0], d_loss_logs_a[:,1], label=\"Discriminator Loss\")\r\n",
        "    plt.plot(g_loss_logs_a[:,0], g_loss_logs_a[:,1], label=\"Generator Loss\")\r\n",
        "    plt.xlabel('Epochs')\r\n",
        "    plt.ylabel('Loss')\r\n",
        "    plt.legend()\r\n",
        "    plt.title('GAN')\r\n",
        "    plt.grid(True)\r\n",
        "    plt.show() \r\n",
        "save_interval = 200\r\n",
        "train(10,64,200)\r\n",
        "GAN.save('gan.h5')"
      ],
      "execution_count": 8,
      "outputs": [
        {
          "output_type": "stream",
          "text": [
            "0 [D loss: 0.200260] [G loss: 0.940644]\n",
            "1 [D loss: 0.200228] [G loss: 0.921085]\n",
            "2 [D loss: 0.200284] [G loss: 0.915689]\n",
            "3 [D loss: 0.200249] [G loss: 0.905445]\n",
            "4 [D loss: 0.200258] [G loss: 0.903229]\n",
            "5 [D loss: 0.200279] [G loss: 0.920009]\n",
            "6 [D loss: 0.200287] [G loss: 0.906306]\n",
            "7 [D loss: 0.200284] [G loss: 0.907817]\n",
            "8 [D loss: 0.200293] [G loss: 0.916399]\n",
            "9 [D loss: 0.200263] [G loss: 0.918891]\n"
          ],
          "name": "stdout"
        },
        {
          "output_type": "display_data",
          "data": {
            "image/png": "[encoded data removed]",
            "text/plain": [
              "<Figure size 432x288 with 1 Axes>"
            ]
          },
          "metadata": {
            "tags": [],
            "needs_background": "light"
          }
        }
      ]
    }
  ]
}