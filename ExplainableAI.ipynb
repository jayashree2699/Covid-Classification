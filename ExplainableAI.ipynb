{
  "nbformat": 4,
  "nbformat_minor": 0,
  "metadata": {
    "colab": {
      "name": "ExplainableAI.ipynb",
      "provenance": [],
      "collapsed_sections": []
    },
    "kernelspec": {
      "name": "python3",
      "display_name": "Python 3"
    },
    "widgets": {
      "application/vnd.jupyter.widget-state+json": {
        "e3fa5b15bcac4734a9329c7e6d41083e": {
          "model_module": "@jupyter-widgets/controls",
          "model_name": "HBoxModel",
          "state": {
            "_view_name": "HBoxView",
            "_dom_classes": [],
            "_model_name": "HBoxModel",
            "_view_module": "@jupyter-widgets/controls",
            "_model_module_version": "1.5.0",
            "_view_count": null,
            "_view_module_version": "1.5.0",
            "box_style": "",
            "layout": "IPY_MODEL_f2c6428f9d1a4f738a526399b2cadf5e",
            "_model_module": "@jupyter-widgets/controls",
            "children": [
              "IPY_MODEL_e3b49a9a28df44bcacd86fea9e1baaf6",
              "IPY_MODEL_1987615ed7474d8d8bd8c95ddfded97f"
            ]
          }
        },
        "f2c6428f9d1a4f738a526399b2cadf5e": {
          "model_module": "@jupyter-widgets/base",
          "model_name": "LayoutModel",
          "state": {
            "_view_name": "LayoutView",
            "grid_template_rows": null,
            "right": null,
            "justify_content": null,
            "_view_module": "@jupyter-widgets/base",
            "overflow": null,
            "_model_module_version": "1.2.0",
            "_view_count": null,
            "flex_flow": null,
            "width": null,
            "min_width": null,
            "border": null,
            "align_items": null,
            "bottom": null,
            "_model_module": "@jupyter-widgets/base",
            "top": null,
            "grid_column": null,
            "overflow_y": null,
            "overflow_x": null,
            "grid_auto_flow": null,
            "grid_area": null,
            "grid_template_columns": null,
            "flex": null,
            "_model_name": "LayoutModel",
            "justify_items": null,
            "grid_row": null,
            "max_height": null,
            "align_content": null,
            "visibility": null,
            "align_self": null,
            "height": null,
            "min_height": null,
            "padding": null,
            "grid_auto_rows": null,
            "grid_gap": null,
            "max_width": null,
            "order": null,
            "_view_module_version": "1.2.0",
            "grid_template_areas": null,
            "object_position": null,
            "object_fit": null,
            "grid_auto_columns": null,
            "margin": null,
            "display": null,
            "left": null
          }
        },
        "e3b49a9a28df44bcacd86fea9e1baaf6": {
          "model_module": "@jupyter-widgets/controls",
          "model_name": "FloatProgressModel",
          "state": {
            "_view_name": "ProgressView",
            "style": "IPY_MODEL_fc25145af39b4c58b8efc8dbd06a9cd8",
            "_dom_classes": [],
            "description": "100%",
            "_model_name": "FloatProgressModel",
            "bar_style": "success",
            "max": 10000,
            "_view_module": "@jupyter-widgets/controls",
            "_model_module_version": "1.5.0",
            "value": 10000,
            "_view_count": null,
            "_view_module_version": "1.5.0",
            "orientation": "horizontal",
            "min": 0,
            "description_tooltip": null,
            "_model_module": "@jupyter-widgets/controls",
            "layout": "IPY_MODEL_3ecba270e58b4f8ca423a42f8f5364eb"
          }
        },
        "1987615ed7474d8d8bd8c95ddfded97f": {
          "model_module": "@jupyter-widgets/controls",
          "model_name": "HTMLModel",
          "state": {
            "_view_name": "HTMLView",
            "style": "IPY_MODEL_6f524326b61f419ca4c46ec894a51c61",
            "_dom_classes": [],
            "description": "",
            "_model_name": "HTMLModel",
            "placeholder": "​",
            "_view_module": "@jupyter-widgets/controls",
            "_model_module_version": "1.5.0",
            "value": " 10000/10000 [08:16&lt;00:00, 20.14it/s]",
            "_view_count": null,
            "_view_module_version": "1.5.0",
            "description_tooltip": null,
            "_model_module": "@jupyter-widgets/controls",
            "layout": "IPY_MODEL_08ac25776dcb4d6aabca909cee905d41"
          }
        },
        "fc25145af39b4c58b8efc8dbd06a9cd8": {
          "model_module": "@jupyter-widgets/controls",
          "model_name": "ProgressStyleModel",
          "state": {
            "_view_name": "StyleView",
            "_model_name": "ProgressStyleModel",
            "description_width": "initial",
            "_view_module": "@jupyter-widgets/base",
            "_model_module_version": "1.5.0",
            "_view_count": null,
            "_view_module_version": "1.2.0",
            "bar_color": null,
            "_model_module": "@jupyter-widgets/controls"
          }
        },
        "3ecba270e58b4f8ca423a42f8f5364eb": {
          "model_module": "@jupyter-widgets/base",
          "model_name": "LayoutModel",
          "state": {
            "_view_name": "LayoutView",
            "grid_template_rows": null,
            "right": null,
            "justify_content": null,
            "_view_module": "@jupyter-widgets/base",
            "overflow": null,
            "_model_module_version": "1.2.0",
            "_view_count": null,
            "flex_flow": null,
            "width": null,
            "min_width": null,
            "border": null,
            "align_items": null,
            "bottom": null,
            "_model_module": "@jupyter-widgets/base",
            "top": null,
            "grid_column": null,
            "overflow_y": null,
            "overflow_x": null,
            "grid_auto_flow": null,
            "grid_area": null,
            "grid_template_columns": null,
            "flex": null,
            "_model_name": "LayoutModel",
            "justify_items": null,
            "grid_row": null,
            "max_height": null,
            "align_content": null,
            "visibility": null,
            "align_self": null,
            "height": null,
            "min_height": null,
            "padding": null,
            "grid_auto_rows": null,
            "grid_gap": null,
            "max_width": null,
            "order": null,
            "_view_module_version": "1.2.0",
            "grid_template_areas": null,
            "object_position": null,
            "object_fit": null,
            "grid_auto_columns": null,
            "margin": null,
            "display": null,
            "left": null
          }
        },
        "6f524326b61f419ca4c46ec894a51c61": {
          "model_module": "@jupyter-widgets/controls",
          "model_name": "DescriptionStyleModel",
          "state": {
            "_view_name": "StyleView",
            "_model_name": "DescriptionStyleModel",
            "description_width": "",
            "_view_module": "@jupyter-widgets/base",
            "_model_module_version": "1.5.0",
            "_view_count": null,
            "_view_module_version": "1.2.0",
            "_model_module": "@jupyter-widgets/controls"
          }
        },
        "08ac25776dcb4d6aabca909cee905d41": {
          "model_module": "@jupyter-widgets/base",
          "model_name": "LayoutModel",
          "state": {
            "_view_name": "LayoutView",
            "grid_template_rows": null,
            "right": null,
            "justify_content": null,
            "_view_module": "@jupyter-widgets/base",
            "overflow": null,
            "_model_module_version": "1.2.0",
            "_view_count": null,
            "flex_flow": null,
            "width": null,
            "min_width": null,
            "border": null,
            "align_items": null,
            "bottom": null,
            "_model_module": "@jupyter-widgets/base",
            "top": null,
            "grid_column": null,
            "overflow_y": null,
            "overflow_x": null,
            "grid_auto_flow": null,
            "grid_area": null,
            "grid_template_columns": null,
            "flex": null,
            "_model_name": "LayoutModel",
            "justify_items": null,
            "grid_row": null,
            "max_height": null,
            "align_content": null,
            "visibility": null,
            "align_self": null,
            "height": null,
            "min_height": null,
            "padding": null,
            "grid_auto_rows": null,
            "grid_gap": null,
            "max_width": null,
            "order": null,
            "_view_module_version": "1.2.0",
            "grid_template_areas": null,
            "object_position": null,
            "object_fit": null,
            "grid_auto_columns": null,
            "margin": null,
            "display": null,
            "left": null
          }
        }
      }
    }
  },
  "cells": [
    {
      "cell_type": "code",
      "metadata": {
        "id": "kWJBTr2z08FK"
      },
      "source": [
        "import random\r\n",
        "import tensorflow as tf\r\n",
        "from keras.optimizers import RMSprop\r\n",
        "from keras.preprocessing.image import ImageDataGenerator\r\n",
        "import keras\r\n",
        "from sklearn.metrics import classification_report, confusion_matrix\r\n",
        "import numpy as np\r\n",
        "import sys\r\n",
        "from keras.models import Sequential\r\n",
        "from keras.layers import Dense, Conv2D, Dropout, Flatten, Activation\r\n",
        "from keras.layers import SeparableConv2D, MaxPool2D, BatchNormalization\r\n",
        "from keras.callbacks import ReduceLROnPlateau"
      ],
      "execution_count": 1,
      "outputs": []
    },
    {
      "cell_type": "code",
      "metadata": {
        "id": "OEnpZXcTD6G3",
        "colab": {
          "base_uri": "https://localhost:8080/"
        },
        "outputId": "586c95bc-0477-4856-cb2a-a4a9b0f845eb"
      },
      "source": [
        "import os\r\n",
        "train_folder= \"/content/drive/MyDrive/Data/Covid-19/Train\"\r\n",
        "#val_folder = \"C:\\Users\\meiza\\Documents\\GitHub\\CNN-Pneumonia\\chest_xray\\val\"\r\n",
        "test_folder = \"/content/drive/MyDrive/Data/Covid-19/Test\"\r\n",
        "\r\n",
        "train_normal_folder= \"/content/drive/MyDrive/Data/Covid-19/Train/Non_Covid\"\r\n",
        "#val_normal_folder = \"C:\\Users\\meiza\\Documents\\GitHub\\CNN-Pneumonia\\chest_xray\\val\\NORMAL\"\r\n",
        "test_normal_folder = \"/content/drive/MyDrive/Data/Covid-19/Test/Non_Covid\"\r\n",
        "\r\n",
        "train_covid_folder= \"/content/drive/MyDrive/Data/Covid-19/Train/Covid-19\"\r\n",
        "#val_pneumonia_folder = \"C:\\Users\\meiza\\Documents\\GitHub\\CNN-Pneumonia\\chest_xray\\val\\PNEUMONIA\"\r\n",
        "test_covid_folder = \"/content/drive/MyDrive/Data/Covid-19/Test/Covid\"\r\n",
        "\r\n",
        "print(len(os.listdir(train_normal_folder)))\r\n",
        "#print(len(os.listdir(val_normal_folder)))\r\n",
        "print(len(os.listdir(test_normal_folder)))\r\n",
        "print(len(os.listdir(train_covid_folder)))\r\n",
        "#print(len(os.listdir(val_pneumonia_folder)))\r\n",
        "print(len(os.listdir(test_covid_folder)))\r\n"
      ],
      "execution_count": 5,
      "outputs": [
        {
          "output_type": "stream",
          "text": [
            "1924\n",
            "231\n",
            "1003\n",
            "177\n"
          ],
          "name": "stdout"
        }
      ]
    },
    {
      "cell_type": "code",
      "metadata": {
        "id": "RFz2ghD-QBnk",
        "colab": {
          "base_uri": "https://localhost:8080/"
        },
        "outputId": "775167ca-befc-413f-a863-aea7937b23d8"
      },
      "source": [
        "\r\n",
        "model = Sequential()\r\n",
        "model.add(Conv2D(32 , (3,3) , strides = 1 , padding = 'same' , activation = 'relu' , input_shape = (256,256,3)))\r\n",
        "model.add(BatchNormalization())\r\n",
        "model.add(MaxPool2D((2,2) , strides = 2 , padding = 'same'))\r\n",
        "model.add(Conv2D(64 , (3,3) , strides = 1 , padding = 'same' , activation = 'relu'))\r\n",
        "model.add(Dropout(0.5))\r\n",
        "model.add(BatchNormalization())\r\n",
        "model.add(MaxPool2D((2,2) , strides = 2 , padding = 'same'))\r\n",
        "model.add(Conv2D(64 , (3,3) , strides = 1 , padding = 'same' , activation = 'relu'))\r\n",
        "model.add(BatchNormalization())\r\n",
        "model.add(MaxPool2D((2,2) , strides = 2 , padding = 'same'))\r\n",
        "model.add(Conv2D(128 , (3,3) , strides = 1 , padding = 'same' , activation = 'relu'))\r\n",
        "model.add(Dropout(0.5))\r\n",
        "model.add(BatchNormalization())\r\n",
        "model.add(MaxPool2D((2,2) , strides = 2 , padding = 'same'))\r\n",
        "model.add(Conv2D(256 , (3,3) , strides = 1 , padding = 'same' , activation = 'relu'))\r\n",
        "model.add(Dropout(0.5))\r\n",
        "model.add(BatchNormalization())\r\n",
        "model.add(MaxPool2D((2,2) , strides = 2 , padding = 'same'))\r\n",
        "model.add(Flatten())\r\n",
        "model.add(Dense(units = 128 , activation = 'relu'))\r\n",
        "model.add(Dropout(0.5))\r\n",
        "model.add(Dense(units = 2 , activation = 'softmax'))\r\n",
        "model.compile(optimizer = \"adam\" , loss = 'categorical_crossentropy' , metrics = ['accuracy'])\r\n",
        "model.summary()\r\n",
        "\r\n",
        "learning_rate_reduction = ReduceLROnPlateau(monitor='val_accuracy', patience = 2, verbose=1,factor=0.3, min_lr=0.000001)"
      ],
      "execution_count": 6,
      "outputs": [
        {
          "output_type": "stream",
          "text": [
            "Model: \"sequential_1\"\n",
            "_________________________________________________________________\n",
            "Layer (type)                 Output Shape              Param #   \n",
            "=================================================================\n",
            "conv2d_5 (Conv2D)            (None, 256, 256, 32)      896       \n",
            "_________________________________________________________________\n",
            "batch_normalization_5 (Batch (None, 256, 256, 32)      128       \n",
            "_________________________________________________________________\n",
            "max_pooling2d_5 (MaxPooling2 (None, 128, 128, 32)      0         \n",
            "_________________________________________________________________\n",
            "conv2d_6 (Conv2D)            (None, 128, 128, 64)      18496     \n",
            "_________________________________________________________________\n",
            "dropout_4 (Dropout)          (None, 128, 128, 64)      0         \n",
            "_________________________________________________________________\n",
            "batch_normalization_6 (Batch (None, 128, 128, 64)      256       \n",
            "_________________________________________________________________\n",
            "max_pooling2d_6 (MaxPooling2 (None, 64, 64, 64)        0         \n",
            "_________________________________________________________________\n",
            "conv2d_7 (Conv2D)            (None, 64, 64, 64)        36928     \n",
            "_________________________________________________________________\n",
            "batch_normalization_7 (Batch (None, 64, 64, 64)        256       \n",
            "_________________________________________________________________\n",
            "max_pooling2d_7 (MaxPooling2 (None, 32, 32, 64)        0         \n",
            "_________________________________________________________________\n",
            "conv2d_8 (Conv2D)            (None, 32, 32, 128)       73856     \n",
            "_________________________________________________________________\n",
            "dropout_5 (Dropout)          (None, 32, 32, 128)       0         \n",
            "_________________________________________________________________\n",
            "batch_normalization_8 (Batch (None, 32, 32, 128)       512       \n",
            "_________________________________________________________________\n",
            "max_pooling2d_8 (MaxPooling2 (None, 16, 16, 128)       0         \n",
            "_________________________________________________________________\n",
            "conv2d_9 (Conv2D)            (None, 16, 16, 256)       295168    \n",
            "_________________________________________________________________\n",
            "dropout_6 (Dropout)          (None, 16, 16, 256)       0         \n",
            "_________________________________________________________________\n",
            "batch_normalization_9 (Batch (None, 16, 16, 256)       1024      \n",
            "_________________________________________________________________\n",
            "max_pooling2d_9 (MaxPooling2 (None, 8, 8, 256)         0         \n",
            "_________________________________________________________________\n",
            "flatten_1 (Flatten)          (None, 16384)             0         \n",
            "_________________________________________________________________\n",
            "dense_2 (Dense)              (None, 128)               2097280   \n",
            "_________________________________________________________________\n",
            "dropout_7 (Dropout)          (None, 128)               0         \n",
            "_________________________________________________________________\n",
            "dense_3 (Dense)              (None, 2)                 258       \n",
            "=================================================================\n",
            "Total params: 2,525,058\n",
            "Trainable params: 2,523,970\n",
            "Non-trainable params: 1,088\n",
            "_________________________________________________________________\n"
          ],
          "name": "stdout"
        }
      ]
    },
    {
      "cell_type": "code",
      "metadata": {
        "colab": {
          "base_uri": "https://localhost:8080/"
        },
        "id": "9I4z8l2lq8_o",
        "outputId": "9b9e4bff-1dd2-47e3-e4c9-5cf83459b9e1"
      },
      "source": [
        "from google.colab import drive\n",
        "drive.mount('/content/drive')"
      ],
      "execution_count": null,
      "outputs": [
        {
          "output_type": "stream",
          "text": [
            "Drive already mounted at /content/drive; to attempt to forcibly remount, call drive.mount(\"/content/drive\", force_remount=True).\n"
          ],
          "name": "stdout"
        }
      ]
    },
    {
      "cell_type": "code",
      "metadata": {
        "id": "Y3xg6SbNQeBI",
        "colab": {
          "base_uri": "https://localhost:8080/"
        },
        "outputId": "202be6d9-aa06-4ee7-9cb7-eda0d274a012"
      },
      "source": [
        "from tensorflow.keras.preprocessing.image import ImageDataGenerator\r\n",
        "\r\n",
        "train_datagen = ImageDataGenerator(rescale = 1./255,\r\n",
        "                                   shear_range = 0.2,\r\n",
        "                                   zoom_range = 0.2,\r\n",
        "                                   horizontal_flip = True,\r\n",
        "                                   width_shift_range = [-200,200],\r\n",
        "                                   featurewise_center=False,\r\n",
        "                                   samplewise_center=False,\r\n",
        "                                   featurewise_std_normalization=False,\r\n",
        "                                   samplewise_std_normalization=False,\r\n",
        "                                   zca_whitening=False,\r\n",
        "                                   )\r\n",
        "\r\n",
        "test_datagen = ImageDataGenerator(rescale = 1./255)\r\n",
        "\r\n",
        "train_generator = train_datagen.flow_from_directory(\r\n",
        "                                                    train_folder,\r\n",
        "                                                    target_size=(256, 256),\r\n",
        "                                                    batch_size=50,\r\n",
        "                                                    class_mode='categorical')\r\n",
        "\r\n",
        "    \r\n",
        "test_generator = test_datagen.flow_from_directory(\r\n",
        "                                                    test_folder,\r\n",
        "                                                    target_size=(256, 256),\r\n",
        "                                                    batch_size=40,\r\n",
        "                                                    class_mode='categorical',\r\n",
        "                                                    shuffle=False)\r\n"
      ],
      "execution_count": 8,
      "outputs": [
        {
          "output_type": "stream",
          "text": [
            "Found 2926 images belonging to 2 classes.\n",
            "Found 408 images belonging to 2 classes.\n"
          ],
          "name": "stdout"
        }
      ]
    },
    {
      "cell_type": "code",
      "metadata": {
        "id": "M7whAwlBQh5u",
        "colab": {
          "base_uri": "https://localhost:8080/"
        },
        "outputId": "ad08eefa-e1f1-4f5d-bf5e-46251114b832"
      },
      "source": [
        "history = model.fit(train_generator,\r\n",
        "                    epochs=12,\r\n",
        "                    verbose=1,\r\n",
        "                    validation_data=test_generator,\r\n",
        "                    class_weight={0:1.0, 1:0.4},\r\n",
        "                    callbacks=[learning_rate_reduction])"
      ],
      "execution_count": null,
      "outputs": [
        {
          "output_type": "stream",
          "text": [
            "Epoch 1/12\n",
            "12/59 [=====>........................] - ETA: 8:51 - loss: 2.5644 - accuracy: 0.6366"
          ],
          "name": "stdout"
        }
      ]
    },
    {
      "cell_type": "code",
      "metadata": {
        "id": "XtoD9ZrGfY2W"
      },
      "source": [
        ""
      ],
      "execution_count": null,
      "outputs": []
    },
    {
      "cell_type": "code",
      "metadata": {
        "id": "blZcyffGQkL0",
        "colab": {
          "base_uri": "https://localhost:8080/",
          "height": 564
        },
        "outputId": "0abd7407-b94c-46d3-c6b2-d1a2279859bb"
      },
      "source": [
        "%matplotlib inline\r\n",
        "\r\n",
        "import matplotlib.image  as mpimg\r\n",
        "import matplotlib.pyplot as plt\r\n",
        "\r\n",
        "acc=history.history['accuracy']\r\n",
        "val_acc=history.history['val_accuracy']\r\n",
        "loss=history.history['loss']\r\n",
        "val_loss=history.history['val_loss']\r\n",
        "\r\n",
        "epochs=range(len(acc))\r\n",
        "\r\n",
        "plt.plot(epochs, acc, 'r', \"Training Accuracy\")\r\n",
        "plt.plot(epochs, val_acc, 'b', \"Validation Accuracy\")\r\n",
        "plt.title('Training and validation accuracy')\r\n",
        "plt.figure()\r\n",
        "\r\n",
        "\r\n",
        "\r\n",
        "plt.plot(epochs, loss, 'r', \"Training Loss\")\r\n",
        "plt.plot(epochs, val_loss, 'b', \"Validation Loss\")\r\n",
        "plt.figure()"
      ],
      "execution_count": null,
      "outputs": [
        {
          "output_type": "execute_result",
          "data": {
            "text/plain": [
              "<Figure size 432x288 with 0 Axes>"
            ]
          },
          "metadata": {
            "tags": []
          },
          "execution_count": 35
        },
        {
          "output_type": "display_data",
          "data": {
            "image/png": "[encoded data removed]",
            "text/plain": [
              "<Figure size 432x288 with 1 Axes>"
            ]
          },
          "metadata": {
            "tags": [],
            "needs_background": "light"
          }
        },
        {
          "output_type": "display_data",
          "data": {
            "image/png": "[encoded data removed]",
            "text/plain": [
              "<Figure size 432x288 with 1 Axes>"
            ]
          },
          "metadata": {
            "tags": [],
            "needs_background": "light"
          }
        },
        {
          "output_type": "display_data",
          "data": {
            "text/plain": [
              "<Figure size 432x288 with 0 Axes>"
            ]
          },
          "metadata": {
            "tags": []
          }
        }
      ]
    },
    {
      "cell_type": "code",
      "metadata": {
        "id": "Wy5yAD80RLHh",
        "colab": {
          "base_uri": "https://localhost:8080/"
        },
        "outputId": "596eac2b-bf84-4f8d-fc90-6b862819490e"
      },
      "source": [
        "print(\"Loss of the model is - \" , model.evaluate(test_generator)[0]*100 , \"%\")\r\n",
        "print(\"Accuracy of the model is - \" , model.evaluate(test_generator)[1]*100 , \"%\")"
      ],
      "execution_count": null,
      "outputs": [
        {
          "output_type": "stream",
          "text": [
            "408/408 [==============================] - 23s 57ms/step - loss: 2.2576 - accuracy: 0.3652\n",
            "Loss of the model is -  225.75616836547852 %\n",
            "408/408 [==============================] - 23s 56ms/step - loss: 2.2576 - accuracy: 0.3652\n",
            "Accuracy of the model is -  36.51960790157318 %\n"
          ],
          "name": "stdout"
        }
      ]
    },
    {
      "cell_type": "code",
      "metadata": {
        "id": "LurbmXHmRNvi"
      },
      "source": [
        "model.save('model.h5')"
      ],
      "execution_count": null,
      "outputs": []
    },
    {
      "cell_type": "code",
      "metadata": {
        "id": "TNY4oufVRPmv",
        "colab": {
          "base_uri": "https://localhost:8080/"
        },
        "outputId": "4caf4d58-aa64-4f1d-f207-5b71bde073bd"
      },
      "source": [
        "Y_pred = model.predict(test_generator)\r\n",
        "y_pred = np.argmax(Y_pred, axis=1)\r\n",
        "\r\n",
        "print('Confusion Matrix')\r\n",
        "\r\n",
        "print(confusion_matrix(test_generator.classes, y_pred))\r\n",
        "\r\n",
        "print('Classification Report')\r\n",
        "\r\n",
        "target_names = ['Normal', 'COVID']\r\n",
        "print(classification_report(test_generator.classes, y_pred, target_names=target_names))"
      ],
      "execution_count": null,
      "outputs": [
        {
          "output_type": "stream",
          "text": [
            "Confusion Matrix\n",
            "[[143  34]\n",
            " [225   6]]\n",
            "Classification Report\n",
            "              precision    recall  f1-score   support\n",
            "\n",
            "      Normal       0.39      0.81      0.52       177\n",
            "       COVID       0.15      0.03      0.04       231\n",
            "\n",
            "    accuracy                           0.37       408\n",
            "   macro avg       0.27      0.42      0.28       408\n",
            "weighted avg       0.25      0.37      0.25       408\n",
            "\n"
          ],
          "name": "stdout"
        }
      ]
    },
    {
      "cell_type": "code",
      "metadata": {
        "id": "ViYbnpjcRS0-"
      },
      "source": [
        "import matplotlib.pyplot as plt\r\n",
        "from lime.lime_image import LimeImageExplainer\r\n",
        "import keras\r\n",
        "import numpy as np\r\n",
        "from keras.preprocessing.image import load_img, img_to_array\r\n",
        "from ipywidgets import IntProgress\r\n",
        "from skimage.segmentation import mark_boundaries"
      ],
      "execution_count": null,
      "outputs": []
    },
    {
      "cell_type": "code",
      "metadata": {
        "colab": {
          "base_uri": "https://localhost:8080/"
        },
        "id": "K4hFoG6tlvpN",
        "outputId": "e1095268-77e3-4d56-c2f3-2c2e466cdf0a"
      },
      "source": [
        "!pip install lime"
      ],
      "execution_count": null,
      "outputs": [
        {
          "output_type": "stream",
          "text": [
            "Collecting lime\n",
            "\u001b[?25l  Downloading https://files.pythonhosted.org/packages/f5/86/91a13127d83d793ecb50eb75e716f76e6eda809b6803c5a4ff462339789e/lime-0.2.0.1.tar.gz (275kB)\n",
            "\r\u001b[K     |█▏                              | 10kB 16.9MB/s eta 0:00:01\r\u001b[K     |██▍                             | 20kB 13.5MB/s eta 0:00:01\r\u001b[K     |███▋                            | 30kB 9.2MB/s eta 0:00:01\r\u001b[K     |████▊                           | 40kB 8.4MB/s eta 0:00:01\r\u001b[K     |██████                          | 51kB 8.8MB/s eta 0:00:01\r\u001b[K     |███████▏                        | 61kB 8.2MB/s eta 0:00:01\r\u001b[K     |████████▎                       | 71kB 9.1MB/s eta 0:00:01\r\u001b[K     |█████████▌                      | 81kB 9.5MB/s eta 0:00:01\r\u001b[K     |██████████▊                     | 92kB 8.4MB/s eta 0:00:01\r\u001b[K     |███████████▉                    | 102kB 8.6MB/s eta 0:00:01\r\u001b[K     |█████████████                   | 112kB 8.6MB/s eta 0:00:01\r\u001b[K     |██████████████▎                 | 122kB 8.6MB/s eta 0:00:01\r\u001b[K     |███████████████▌                | 133kB 8.6MB/s eta 0:00:01\r\u001b[K     |████████████████▋               | 143kB 8.6MB/s eta 0:00:01\r\u001b[K     |█████████████████▉              | 153kB 8.6MB/s eta 0:00:01\r\u001b[K     |███████████████████             | 163kB 8.6MB/s eta 0:00:01\r\u001b[K     |████████████████████▏           | 174kB 8.6MB/s eta 0:00:01\r\u001b[K     |█████████████████████▍          | 184kB 8.6MB/s eta 0:00:01\r\u001b[K     |██████████████████████▋         | 194kB 8.6MB/s eta 0:00:01\r\u001b[K     |███████████████████████▊        | 204kB 8.6MB/s eta 0:00:01\r\u001b[K     |█████████████████████████       | 215kB 8.6MB/s eta 0:00:01\r\u001b[K     |██████████████████████████▏     | 225kB 8.6MB/s eta 0:00:01\r\u001b[K     |███████████████████████████▍    | 235kB 8.6MB/s eta 0:00:01\r\u001b[K     |████████████████████████████▌   | 245kB 8.6MB/s eta 0:00:01\r\u001b[K     |█████████████████████████████▊  | 256kB 8.6MB/s eta 0:00:01\r\u001b[K     |███████████████████████████████ | 266kB 8.6MB/s eta 0:00:01\r\u001b[K     |████████████████████████████████| 276kB 8.6MB/s \n",
            "\u001b[?25hRequirement already satisfied: matplotlib in /usr/local/lib/python3.7/dist-packages (from lime) (3.2.2)\n",
            "Requirement already satisfied: numpy in /usr/local/lib/python3.7/dist-packages (from lime) (1.19.5)\n",
            "Requirement already satisfied: scipy in /usr/local/lib/python3.7/dist-packages (from lime) (1.4.1)\n",
            "Requirement already satisfied: tqdm in /usr/local/lib/python3.7/dist-packages (from lime) (4.41.1)\n",
            "Requirement already satisfied: scikit-learn>=0.18 in /usr/local/lib/python3.7/dist-packages (from lime) (0.22.2.post1)\n",
            "Requirement already satisfied: scikit-image>=0.12 in /usr/local/lib/python3.7/dist-packages (from lime) (0.16.2)\n",
            "Requirement already satisfied: kiwisolver>=1.0.1 in /usr/local/lib/python3.7/dist-packages (from matplotlib->lime) (1.3.1)\n",
            "Requirement already satisfied: pyparsing!=2.0.4,!=2.1.2,!=2.1.6,>=2.0.1 in /usr/local/lib/python3.7/dist-packages (from matplotlib->lime) (2.4.7)\n",
            "Requirement already satisfied: cycler>=0.10 in /usr/local/lib/python3.7/dist-packages (from matplotlib->lime) (0.10.0)\n",
            "Requirement already satisfied: python-dateutil>=2.1 in /usr/local/lib/python3.7/dist-packages (from matplotlib->lime) (2.8.1)\n",
            "Requirement already satisfied: joblib>=0.11 in /usr/local/lib/python3.7/dist-packages (from scikit-learn>=0.18->lime) (1.0.1)\n",
            "Requirement already satisfied: pillow>=4.3.0 in /usr/local/lib/python3.7/dist-packages (from scikit-image>=0.12->lime) (7.0.0)\n",
            "Requirement already satisfied: networkx>=2.0 in /usr/local/lib/python3.7/dist-packages (from scikit-image>=0.12->lime) (2.5)\n",
            "Requirement already satisfied: PyWavelets>=0.4.0 in /usr/local/lib/python3.7/dist-packages (from scikit-image>=0.12->lime) (1.1.1)\n",
            "Requirement already satisfied: imageio>=2.3.0 in /usr/local/lib/python3.7/dist-packages (from scikit-image>=0.12->lime) (2.4.1)\n",
            "Requirement already satisfied: six in /usr/local/lib/python3.7/dist-packages (from cycler>=0.10->matplotlib->lime) (1.15.0)\n",
            "Requirement already satisfied: decorator>=4.3.0 in /usr/local/lib/python3.7/dist-packages (from networkx>=2.0->scikit-image>=0.12->lime) (4.4.2)\n",
            "Building wheels for collected packages: lime\n",
            "  Building wheel for lime (setup.py) ... \u001b[?25l\u001b[?25hdone\n",
            "  Created wheel for lime: filename=lime-0.2.0.1-cp37-none-any.whl size=283846 sha256=95e3d3c134fb765e9d5c534f6cd2b97beeb41c8274064c0df6814886cf952caa\n",
            "  Stored in directory: /root/.cache/pip/wheels/4c/4f/a5/0bc765457bd41378bf3ce8d17d7495369d6e7ca3b712c60c89\n",
            "Successfully built lime\n",
            "Installing collected packages: lime\n",
            "Successfully installed lime-0.2.0.1\n"
          ],
          "name": "stdout"
        }
      ]
    },
    {
      "cell_type": "code",
      "metadata": {
        "colab": {
          "base_uri": "https://localhost:8080/"
        },
        "id": "oGz4QWjvpqiQ",
        "outputId": "e754d151-12c9-41bf-e825-b29f105e8431"
      },
      "source": [
        "\r\n",
        "model = keras.models.load_model('model.h5')\r\n",
        "print(model.summary())"
      ],
      "execution_count": null,
      "outputs": [
        {
          "output_type": "stream",
          "text": [
            "Model: \"sequential_2\"\n",
            "_________________________________________________________________\n",
            "Layer (type)                 Output Shape              Param #   \n",
            "=================================================================\n",
            "conv2d_10 (Conv2D)           (None, 256, 256, 32)      896       \n",
            "_________________________________________________________________\n",
            "batch_normalization_10 (Batc (None, 256, 256, 32)      128       \n",
            "_________________________________________________________________\n",
            "max_pooling2d_10 (MaxPooling (None, 128, 128, 32)      0         \n",
            "_________________________________________________________________\n",
            "conv2d_11 (Conv2D)           (None, 128, 128, 64)      18496     \n",
            "_________________________________________________________________\n",
            "dropout_8 (Dropout)          (None, 128, 128, 64)      0         \n",
            "_________________________________________________________________\n",
            "batch_normalization_11 (Batc (None, 128, 128, 64)      256       \n",
            "_________________________________________________________________\n",
            "max_pooling2d_11 (MaxPooling (None, 64, 64, 64)        0         \n",
            "_________________________________________________________________\n",
            "conv2d_12 (Conv2D)           (None, 64, 64, 64)        36928     \n",
            "_________________________________________________________________\n",
            "batch_normalization_12 (Batc (None, 64, 64, 64)        256       \n",
            "_________________________________________________________________\n",
            "max_pooling2d_12 (MaxPooling (None, 32, 32, 64)        0         \n",
            "_________________________________________________________________\n",
            "conv2d_13 (Conv2D)           (None, 32, 32, 128)       73856     \n",
            "_________________________________________________________________\n",
            "dropout_9 (Dropout)          (None, 32, 32, 128)       0         \n",
            "_________________________________________________________________\n",
            "batch_normalization_13 (Batc (None, 32, 32, 128)       512       \n",
            "_________________________________________________________________\n",
            "max_pooling2d_13 (MaxPooling (None, 16, 16, 128)       0         \n",
            "_________________________________________________________________\n",
            "conv2d_14 (Conv2D)           (None, 16, 16, 256)       295168    \n",
            "_________________________________________________________________\n",
            "dropout_10 (Dropout)         (None, 16, 16, 256)       0         \n",
            "_________________________________________________________________\n",
            "batch_normalization_14 (Batc (None, 16, 16, 256)       1024      \n",
            "_________________________________________________________________\n",
            "max_pooling2d_14 (MaxPooling (None, 8, 8, 256)         0         \n",
            "_________________________________________________________________\n",
            "flatten_2 (Flatten)          (None, 16384)             0         \n",
            "_________________________________________________________________\n",
            "dense_4 (Dense)              (None, 128)               2097280   \n",
            "_________________________________________________________________\n",
            "dropout_11 (Dropout)         (None, 128)               0         \n",
            "_________________________________________________________________\n",
            "dense_5 (Dense)              (None, 2)                 258       \n",
            "=================================================================\n",
            "Total params: 2,525,058\n",
            "Trainable params: 2,523,970\n",
            "Non-trainable params: 1,088\n",
            "_________________________________________________________________\n",
            "None\n"
          ],
          "name": "stdout"
        }
      ]
    },
    {
      "cell_type": "code",
      "metadata": {
        "colab": {
          "base_uri": "https://localhost:8080/"
        },
        "id": "DU3dbJT0lwUv",
        "outputId": "4dbd8a44-e74f-4e2f-c440-506503d1ca0a"
      },
      "source": [
        "img = load_img('/content/drive/MyDrive/Data/Covid-19/Test/Non_Covid/Non-Covid (42).png', target_size=(256,256))\r\n",
        "doc = keras.preprocessing.image.img_to_array(img)\r\n",
        "doc1 = doc\r\n",
        "#doc = tf.image.rgb_to_grayscale(doc)\r\n",
        "doc = np.expand_dims(doc, axis=0)\r\n",
        "doc = doc/255\r\n",
        "predictions = model.predict(doc)\r\n",
        "print(predictions)"
      ],
      "execution_count": null,
      "outputs": [
        {
          "output_type": "stream",
          "text": [
            "[[0.00968326 0.99031675]]\n"
          ],
          "name": "stdout"
        }
      ]
    },
    {
      "cell_type": "code",
      "metadata": {
        "colab": {
          "base_uri": "https://localhost:8080/",
          "height": 67,
          "referenced_widgets": [
            "e3fa5b15bcac4734a9329c7e6d41083e",
            "f2c6428f9d1a4f738a526399b2cadf5e",
            "e3b49a9a28df44bcacd86fea9e1baaf6",
            "1987615ed7474d8d8bd8c95ddfded97f",
            "fc25145af39b4c58b8efc8dbd06a9cd8",
            "3ecba270e58b4f8ca423a42f8f5364eb",
            "6f524326b61f419ca4c46ec894a51c61",
            "08ac25776dcb4d6aabca909cee905d41"
          ]
        },
        "id": "yRCR0Anml14J",
        "outputId": "c5ba78af-cd65-44fa-ab69-3b5c107f0fa6"
      },
      "source": [
        "explainer = LimeImageExplainer()\r\n",
        "explanation = explainer.explain_instance(doc[0].astype('double'), model.predict, top_labels=0, num_samples=10000, random_seed=42)"
      ],
      "execution_count": null,
      "outputs": [
        {
          "output_type": "display_data",
          "data": {
            "application/vnd.jupyter.widget-view+json": {
              "model_id": "e3fa5b15bcac4734a9329c7e6d41083e",
              "version_minor": 0,
              "version_major": 2
            },
            "text/plain": [
              "HBox(children=(FloatProgress(value=0.0, max=10000.0), HTML(value='')))"
            ]
          },
          "metadata": {
            "tags": []
          }
        },
        {
          "output_type": "stream",
          "text": [
            "\n"
          ],
          "name": "stdout"
        }
      ]
    },
    {
      "cell_type": "code",
      "metadata": {
        "colab": {
          "base_uri": "https://localhost:8080/",
          "height": 287
        },
        "id": "85oM2Hbnl4Xh",
        "outputId": "30d0c2ea-0e2d-40a9-a965-b43861e8b1f5"
      },
      "source": [
        "\r\n",
        "temp, mask = explanation.get_image_and_mask(1, positive_only=False, num_features=1, hide_rest=False)\r\n",
        "# plot image and mask together\r\n",
        "plt.imshow(mark_boundaries(temp / 2 + 0.5, mask))"
      ],
      "execution_count": null,
      "outputs": [
        {
          "output_type": "execute_result",
          "data": {
            "text/plain": [
              "<matplotlib.image.AxesImage at 0x7f4708310350>"
            ]
          },
          "metadata": {
            "tags": []
          },
          "execution_count": 57
        },
        {
          "output_type": "display_data",
          "data": {
            "image/png": "[encoded data removed]",
            "text/plain": [
              "<Figure size 432x288 with 1 Axes>"
            ]
          },
          "metadata": {
            "tags": [],
            "needs_background": "light"
          }
        }
      ]
    }
  ]
}